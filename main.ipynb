{
 "cells": [
  {
   "cell_type": "code",
   "execution_count": null,
   "id": "079413b5",
   "metadata": {},
   "outputs": [],
   "source": [
    "import pandas as pd\n",
    "import openmeteo_requests\n",
    "import requests_cache\n",
    "from retry_requests import retry"
   ]
  },
  {
   "cell_type": "code",
   "execution_count": 13,
   "id": "fd6d494e",
   "metadata": {},
   "outputs": [],
   "source": [
    "cache_session = requests_cache.CachedSession('.cache', expire_after=3600)\n",
    "retry_session = retry(cache_session, retries=5, backoff_factor=0.2)\n",
    "openmeteo = openmeteo_requests.Client(session=retry_session)"
   ]
  },
  {
   "cell_type": "code",
   "execution_count": 14,
   "id": "461e86e1",
   "metadata": {},
   "outputs": [],
   "source": [
    "locations = pd.read_csv(\"locations.csv\").to_dict(orient=\"records\")\n",
    "\n",
    "variables = [\n",
    "    \"temperature_2m\", \"relative_humidity_2m\", \"wind_speed_10m\", \"wind_direction_10m\",\n",
    "    \"wind_gusts_10m\", \"apparent_temperature\", \"precipitation_probability\",\n",
    "    \"precipitation\", \"rain\", \"snowfall\"\n",
    "]\n",
    "\n",
    "all_data = []"
   ]
  },
  {
   "cell_type": "code",
   "execution_count": null,
   "id": "ec903489",
   "metadata": {},
   "outputs": [],
   "source": [
    "for loc in locations:\n",
    "    params = {\n",
    "        \"latitude\": loc[\"lat\"],\n",
    "        \"longitude\": loc[\"lon\"],\n",
    "        \"hourly\": variables,\n",
    "        \"hourly_interval\": 1,\n",
    "        \"timezone\": \"Europe/London\"\n",
    "    }\n",
    "\n",
    "    try:\n",
    "        responses = openmeteo.weather_api(\"https://api.open-meteo.com/v1/forecast\", params=params)\n",
    "        response = responses[0]\n",
    "\n",
    "        hourly = response.Hourly()\n",
    "        time_index = pd.date_range(\n",
    "            start=pd.to_datetime(hourly.Time(), unit=\"s\", utc=True),\n",
    "            end=pd.to_datetime(hourly.TimeEnd(), unit=\"s\", utc=True),\n",
    "            freq=pd.Timedelta(seconds=hourly.Interval()),\n",
    "            inclusive=\"left\"\n",
    "        )\n",
    "\n",
    "        hourly_data = {\"time\": time_index}\n",
    "        for i, var in enumerate(variables):\n",
    "            hourly_data[var] = hourly.Variables(i).ValuesAsNumpy()\n",
    "\n",
    "        df = pd.DataFrame(hourly_data)\n",
    "        df[\"location\"] = loc[\"name\"]\n",
    "        all_data.append(df)\n",
    "\n",
    "    except Exception as e:\n",
    "        print(f\"Failed to fetch data for {loc['name']}: {e}\")\n",
    "\n",
    "weather_df = pd.concat(all_data, ignore_index=True)\n",
    "\n",
    "weather_df.to_csv(\"england_hourly_weather.csv\", index=False)\n",
    "print(weather_df.head())"
   ]
  }
 ],
 "metadata": {
  "kernelspec": {
   "display_name": "venv",
   "language": "python",
   "name": "python3"
  },
  "language_info": {
   "codemirror_mode": {
    "name": "ipython",
    "version": 3
   },
   "file_extension": ".py",
   "mimetype": "text/x-python",
   "name": "python",
   "nbconvert_exporter": "python",
   "pygments_lexer": "ipython3",
   "version": "3.12.3"
  }
 },
 "nbformat": 4,
 "nbformat_minor": 5
}
